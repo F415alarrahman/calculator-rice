{
 "cells": [
  {
   "cell_type": "code",
   "execution_count": 3,
   "metadata": {},
   "outputs": [
    {
     "name": "stdout",
     "output_type": "stream",
     "text": [
      "Perkiraan tanggal panen: 2025-04-27 (Tersisa 119 hari lagi)\n"
     ]
    }
   ],
   "source": [
    "from datetime import datetime, timedelta\n",
    "\n",
    "# Fungsi untuk menambahkan 4 bulan (120 hari) dan menghitung sisa hari\n",
    "def perkiraan_panen(tanggal_tanam):\n",
    "    tanggal_tanam = datetime.strptime(tanggal_tanam, '%Y-%m-%d')\n",
    "    tanggal_panen = tanggal_tanam + timedelta(days=120)\n",
    "    sisa_hari = (tanggal_panen - datetime.now()).days\n",
    "    return tanggal_panen.strftime('%Y-%m-%d'), sisa_hari\n",
    "\n",
    "# Input tanggal tanam dari pengguna\n",
    "tanggal_tanam_input = input(\"Masukkan tanggal tanam (format YYYY-MM-DD): \")\n",
    "\n",
    "# Menghitung perkiraan tanggal panen dan sisa hari\n",
    "tanggal_panen, sisa_hari = perkiraan_panen(tanggal_tanam_input)\n",
    "\n",
    "# Menampilkan hasil\n",
    "if sisa_hari > 0:\n",
    "    print(f\"Perkiraan tanggal panen: {tanggal_panen} (Tersisa {sisa_hari} hari lagi)\")\n",
    "else:\n",
    "    print(f\"Perkiraan tanggal panen: {tanggal_panen} (Sudah panen!)\")"
   ]
  },
  {
   "cell_type": "code",
   "execution_count": 5,
   "metadata": {},
   "outputs": [
    {
     "name": "stdout",
     "output_type": "stream",
     "text": [
      "Perkiraan hasil panen untuk luas sawah 200.0 m² adalah 120.00 ton.\n",
      "Perkiraan harga gabah untuk hasil panen tersebut adalah Rp720000000.00.\n"
     ]
    }
   ],
   "source": [
    "# Fungsi untuk menghitung hasil panen berdasarkan luas sawah\n",
    "def hasil_panen(luas_sawah, hasil_per_meter=0.6):\n",
    "    # Menghitung total hasil panen dalam ton\n",
    "    total_hasil = luas_sawah * hasil_per_meter\n",
    "    return total_hasil\n",
    "\n",
    "# Fungsi untuk menghitung harga berdasarkan hasil panen\n",
    "def harga_panen(total_hasil, harga_per_kg=6000):\n",
    "    # Menghitung harga total dalam Rupiah\n",
    "    total_harga = total_hasil * 1000 * harga_per_kg  # konversi ton ke kg\n",
    "    return total_harga\n",
    "\n",
    "# Input luas sawah dari pengguna\n",
    "luas_sawah_input = float(input(\"Masukkan luas sawah (dalam meter persegi): \"))\n",
    "\n",
    "# Menghitung hasil panen\n",
    "total_hasil = hasil_panen(luas_sawah_input)\n",
    "\n",
    "# Menghitung harga gabah dari hasil panen\n",
    "total_harga = harga_panen(total_hasil)\n",
    "\n",
    "# Menampilkan hasil\n",
    "print(f\"Perkiraan hasil panen untuk luas sawah {luas_sawah_input} m² adalah {total_hasil:.2f} ton.\")\n",
    "print(f\"Perkiraan harga gabah untuk hasil panen tersebut adalah Rp{total_harga:.2f}.\")"
   ]
  }
 ],
 "metadata": {
  "kernelspec": {
   "display_name": "Python 3",
   "language": "python",
   "name": "python3"
  },
  "language_info": {
   "codemirror_mode": {
    "name": "ipython",
    "version": 3
   },
   "file_extension": ".py",
   "mimetype": "text/x-python",
   "name": "python",
   "nbconvert_exporter": "python",
   "pygments_lexer": "ipython3",
   "version": "3.12.1"
  }
 },
 "nbformat": 4,
 "nbformat_minor": 2
}
